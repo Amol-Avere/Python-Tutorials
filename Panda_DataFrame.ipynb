{
 "cells": [
  {
   "cell_type": "markdown",
   "metadata": {},
   "source": [
    "#Syntax: pandas.DataFrame( data, index, columns, dtype, copy)"
   ]
  },
  {
   "cell_type": "code",
   "execution_count": null,
   "metadata": {},
   "outputs": [],
   "source": [
    "Sr.No\tParameter & Description\n",
    "1\tdata      data takes various forms like ndarray, series, map, lists, dict, constants and also another DataFrame.\n",
    "\n",
    "2\tindex     For the row labels, the Index to be used for the resulting frame is Optional Default np.arrange(n) if no index is passed.\n",
    "\n",
    "3\tcolumns   For column labels, the optional default syntax is - np.arrange(n). This is only true if no index is passed.\n",
    "\n",
    "4\tdtype     Data type of each column.\n",
    "\n",
    "5\tcopy      This command (or whatever it is) is used for copying of data, if the default is False."
   ]
  },
  {
   "cell_type": "markdown",
   "metadata": {},
   "source": [
    "Create DataFrame\n",
    "A pandas DataFrame can be created using various inputs like −\n",
    "\n",
    "Lists\n",
    "dict\n",
    "Series\n",
    "Numpy ndarrays\n",
    "Another DataFrame\n"
   ]
  },
  {
   "cell_type": "code",
   "execution_count": 1,
   "metadata": {},
   "outputs": [],
   "source": [
    "import pandas as pd\n",
    "import numpy as np"
   ]
  },
  {
   "cell_type": "code",
   "execution_count": null,
   "metadata": {},
   "outputs": [],
   "source": [
    "#Create Empty DataFrame\n",
    "\n",
    "df=pd.DataFrame()\n",
    "print(df)"
   ]
  },
  {
   "cell_type": "code",
   "execution_count": null,
   "metadata": {},
   "outputs": [],
   "source": [
    "#Create DataFrame from List\n",
    "\n",
    "df=pd.DataFrame([1,2,3,4])\n",
    "print(df)"
   ]
  },
  {
   "cell_type": "code",
   "execution_count": null,
   "metadata": {},
   "outputs": [],
   "source": [
    "data=[['Alex',12],['John',20],['Alice',15]]\n",
    "df=pd.DataFrame(data,columns=['Name','Age'])\n",
    "print(df)\n",
    "print(type(data))"
   ]
  },
  {
   "cell_type": "code",
   "execution_count": null,
   "metadata": {},
   "outputs": [],
   "source": [
    "#Using additional dtype keyword\n",
    "\n",
    "data=[['Alex',12],['John',20],['Alice',15]]\n",
    "df=pd.DataFrame(data,columns=['Name','Age'],dtype=float)\n",
    "print(df)"
   ]
  },
  {
   "cell_type": "markdown",
   "metadata": {},
   "source": [
    "# Create a DataFrame from Dict of ndarrays / Lists\n",
    "All the ndarrays must be of same length. If index is passed, then the length of the index should equal to the length of the arrays.\n",
    "\n",
    "If no index is passed, then by default, index will be range(n), where n is the array length."
   ]
  },
  {
   "cell_type": "code",
   "execution_count": null,
   "metadata": {},
   "outputs": [],
   "source": [
    "data={'Name':['Alex','John','Alice','Miller','Nash'],'Age':[13,12,14,12,11]}\n",
    "df=pd.DataFrame(data)\n",
    "print(df)\n",
    "#additional just for excercise\n",
    "print(data['Name'])\n",
    "print(data['Name'][2])"
   ]
  },
  {
   "cell_type": "code",
   "execution_count": null,
   "metadata": {},
   "outputs": [],
   "source": [
    "#Index DataFrames \n",
    "data={'Name':['Alex','John','Alice','Miller','Nash'],'Age':[13,12,14,12,11]}\n",
    "df=pd.DataFrame(data,['Rank1','Rank2','Rank3','Rank4','Rank5'])\n",
    "#most Preferred with index lable to avoid confusion with other tags\n",
    "de=pd.DataFrame(data,index=['Rank1','Rank2','Rank3','Rank4','Rank5'])\n",
    "print(df)\n",
    "print()\n",
    "print(de)\n"
   ]
  },
  {
   "cell_type": "code",
   "execution_count": null,
   "metadata": {},
   "outputs": [],
   "source": [
    "#DataFrame from list of dicts\n",
    "\n",
    "data= [{'a':1,'b':2,},{'a':5,'b':3,'c':7}]\n",
    "df=pd.DataFrame(data)\n",
    "print(df)"
   ]
  },
  {
   "cell_type": "code",
   "execution_count": null,
   "metadata": {},
   "outputs": [],
   "source": [
    "data= [{'a':1,'b':2,},{'a':5,'b':3,'c':7}]\n",
    "df=pd.DataFrame(data,index=['First','Second'])\n",
    "print(df)"
   ]
  },
  {
   "cell_type": "code",
   "execution_count": null,
   "metadata": {},
   "outputs": [],
   "source": [
    "data = [{'a': 1, 'b': 2},{'a': 5, 'b': 10, 'c': 20}]\n",
    "\n",
    "#With two column indices, values same as dictionary keys\n",
    "df1 = pd.DataFrame(data, index=['first', 'second'], columns=['a', 'b'])\n",
    "\n",
    "#With two column indices with one index with other name\n",
    "df2 = pd.DataFrame(data, index=['first', 'second'], columns=['a', 'b1'])\n",
    "print (df1)\n",
    "print()\n",
    "print (df2)"
   ]
  },
  {
   "cell_type": "markdown",
   "metadata": {},
   "source": [
    "# DataFrame from Dict of Series"
   ]
  },
  {
   "cell_type": "code",
   "execution_count": null,
   "metadata": {},
   "outputs": [],
   "source": [
    "data={'One':pd.Series([1,2,3],index=['a','b','c']),\n",
    "      'Two':pd.Series([5,6,7],index=['e','f','g']),\n",
    "      'Three':pd.Series([8,9,10],index= ['a','b','c'])\n",
    "     }\n",
    "df= pd.DataFrame(data)\n",
    "print(df)"
   ]
  },
  {
   "cell_type": "code",
   "execution_count": null,
   "metadata": {},
   "outputs": [],
   "source": [
    "print(df['One'])"
   ]
  },
  {
   "cell_type": "code",
   "execution_count": null,
   "metadata": {},
   "outputs": [],
   "source": [
    "# Adding column to DataFrame\n",
    "df['Four']=pd.Series([1,2,3],index=['a','b','c'])\n",
    "\n",
    "print(df)"
   ]
  },
  {
   "cell_type": "code",
   "execution_count": null,
   "metadata": {},
   "outputs": [],
   "source": [
    "print('Adding new column using the existing column in DataFrame')\n",
    "df['Five']=df['One']+df['Four']\n",
    "print(df)"
   ]
  },
  {
   "cell_type": "code",
   "execution_count": null,
   "metadata": {},
   "outputs": [],
   "source": [
    "#Deleting perticular column del Function\n",
    "del df['Two']\n",
    "print(df)\n"
   ]
  },
  {
   "cell_type": "code",
   "execution_count": null,
   "metadata": {},
   "outputs": [],
   "source": [
    "#using pop function\n",
    "\n",
    "df.pop('Four')\n",
    "print(df)"
   ]
  },
  {
   "cell_type": "markdown",
   "metadata": {},
   "source": [
    "# Row Selection, Addition, and Deletion\n",
    "Row Selection methods loc and iloc "
   ]
  },
  {
   "cell_type": "code",
   "execution_count": null,
   "metadata": {},
   "outputs": [],
   "source": [
    "d= {'One':pd.Series([1,2,3],index=['a','b','c']),\n",
    "    'Two':pd.Series([4,5,6],index=['a','b','c'])\n",
    "   }\n",
    "df2=pd.DataFrame(d)\n",
    "print(df)\n",
    "print()\n",
    "print(df.loc['b']) #selection by lable\n",
    "print()\n",
    "print(df.iloc[0]) #Selection by interger location"
   ]
  },
  {
   "cell_type": "code",
   "execution_count": null,
   "metadata": {},
   "outputs": [],
   "source": [
    "data={'One':pd.Series([1,2,3],index=['a','b','c']),\n",
    "      'Two':pd.Series([5,6,7],index=['e','f','g']),\n",
    "      'Three':pd.Series([8,9,10],index= ['a','b','c']),\n",
    "      'Four':pd.Series([11,12,13],index=['a','b','c'])\n",
    "     }\n",
    "df= pd.DataFrame(data)\n",
    "print(df)\n",
    "print()\n",
    "print(df[2:4]) #Row slicing"
   ]
  },
  {
   "cell_type": "markdown",
   "metadata": {},
   "source": [
    "# Addition of row in DataFrame\n",
    "append method"
   ]
  },
  {
   "cell_type": "code",
   "execution_count": 31,
   "metadata": {},
   "outputs": [
    {
     "name": "stdout",
     "output_type": "stream",
     "text": [
      "   One  Two  Three  Four\n",
      "a    1    5      8    11\n",
      "b    2    6      9    12\n",
      "c    3    7     10    13\n",
      "\n",
      "   Five\n",
      "a    14\n",
      "b    15\n",
      "c    16\n",
      "   One  Two  Three  Four  Five\n",
      "a  1.0  5.0    8.0  11.0   NaN\n",
      "b  2.0  6.0    9.0  12.0   NaN\n",
      "c  3.0  7.0   10.0  13.0   NaN\n",
      "a  NaN  NaN    NaN   NaN  14.0\n",
      "b  NaN  NaN    NaN   NaN  15.0\n",
      "c  NaN  NaN    NaN   NaN  16.0\n"
     ]
    }
   ],
   "source": [
    "data={'One':pd.Series([1,2,3],index=['a','b','c']),\n",
    "      'Two':pd.Series([5,6,7],index=['a','b','c']),\n",
    "      'Three':pd.Series([8,9,10],index= ['a','b','c']),\n",
    "      'Four':pd.Series([11,12,13],index=['a','b','c'])\n",
    "     }\n",
    "df= pd.DataFrame(data)\n",
    "print(df)\n",
    "print()\n",
    "df2= pd.DataFrame()\n",
    "df2['Five']= pd.Series([14,15,16],index=['a','b','c'])\n",
    "print(df2)\n",
    "df=df.append(df2,sort=False)\n",
    "print(df)"
   ]
  },
  {
   "cell_type": "markdown",
   "metadata": {},
   "source": [
    "# Deletion of Row\n",
    "\n",
    "#Use index label to delete or drop rows from a DataFrame."
   ]
  },
  {
   "cell_type": "code",
   "execution_count": 35,
   "metadata": {},
   "outputs": [
    {
     "name": "stdout",
     "output_type": "stream",
     "text": [
      "   One  Two  Three  Four\n",
      "0    1    5      8    11\n",
      "1    2    6      9    12\n",
      "2    3    7     10    13\n",
      "\n",
      "   Five\n",
      "0    14\n",
      "1    15\n",
      "2    16\n",
      "\n",
      "   One  Two  Three  Four  Five\n",
      "0  1.0  5.0    8.0  11.0   NaN\n",
      "1  2.0  6.0    9.0  12.0   NaN\n",
      "2  3.0  7.0   10.0  13.0   NaN\n",
      "0  NaN  NaN    NaN   NaN  14.0\n",
      "1  NaN  NaN    NaN   NaN  15.0\n",
      "2  NaN  NaN    NaN   NaN  16.0\n"
     ]
    },
    {
     "data": {
      "text/html": [
       "<div>\n",
       "<style scoped>\n",
       "    .dataframe tbody tr th:only-of-type {\n",
       "        vertical-align: middle;\n",
       "    }\n",
       "\n",
       "    .dataframe tbody tr th {\n",
       "        vertical-align: top;\n",
       "    }\n",
       "\n",
       "    .dataframe thead th {\n",
       "        text-align: right;\n",
       "    }\n",
       "</style>\n",
       "<table border=\"1\" class=\"dataframe\">\n",
       "  <thead>\n",
       "    <tr style=\"text-align: right;\">\n",
       "      <th></th>\n",
       "      <th>One</th>\n",
       "      <th>Two</th>\n",
       "      <th>Three</th>\n",
       "      <th>Four</th>\n",
       "      <th>Five</th>\n",
       "    </tr>\n",
       "  </thead>\n",
       "  <tbody>\n",
       "    <tr>\n",
       "      <th>1</th>\n",
       "      <td>2.0</td>\n",
       "      <td>6.0</td>\n",
       "      <td>9.0</td>\n",
       "      <td>12.0</td>\n",
       "      <td>NaN</td>\n",
       "    </tr>\n",
       "    <tr>\n",
       "      <th>2</th>\n",
       "      <td>3.0</td>\n",
       "      <td>7.0</td>\n",
       "      <td>10.0</td>\n",
       "      <td>13.0</td>\n",
       "      <td>NaN</td>\n",
       "    </tr>\n",
       "    <tr>\n",
       "      <th>1</th>\n",
       "      <td>NaN</td>\n",
       "      <td>NaN</td>\n",
       "      <td>NaN</td>\n",
       "      <td>NaN</td>\n",
       "      <td>15.0</td>\n",
       "    </tr>\n",
       "    <tr>\n",
       "      <th>2</th>\n",
       "      <td>NaN</td>\n",
       "      <td>NaN</td>\n",
       "      <td>NaN</td>\n",
       "      <td>NaN</td>\n",
       "      <td>16.0</td>\n",
       "    </tr>\n",
       "  </tbody>\n",
       "</table>\n",
       "</div>"
      ],
      "text/plain": [
       "   One  Two  Three  Four  Five\n",
       "1  2.0  6.0    9.0  12.0   NaN\n",
       "2  3.0  7.0   10.0  13.0   NaN\n",
       "1  NaN  NaN    NaN   NaN  15.0\n",
       "2  NaN  NaN    NaN   NaN  16.0"
      ]
     },
     "execution_count": 35,
     "metadata": {},
     "output_type": "execute_result"
    }
   ],
   "source": [
    "## droping rows where index is interger\n",
    "\n",
    "data={'One':pd.Series([1,2,3]),\n",
    "      'Two':pd.Series([5,6,7]),\n",
    "      'Three':pd.Series([8,9,10]),\n",
    "      'Four':pd.Series([11,12,13])\n",
    "     }\n",
    "df= pd.DataFrame(data)\n",
    "print(df)\n",
    "print()\n",
    "df2= pd.DataFrame()\n",
    "df2['Five']= pd.Series([14,15,16])\n",
    "print(df2)\n",
    "print()\n",
    "df=df.append(df2,sort=False)\n",
    "print(df)\n",
    "df.drop(0)"
   ]
  },
  {
   "cell_type": "code",
   "execution_count": 38,
   "metadata": {},
   "outputs": [
    {
     "name": "stdout",
     "output_type": "stream",
     "text": [
      "   One  Two  Three  Four\n",
      "a    1    5      8    11\n",
      "b    2    6      9    12\n",
      "c    3    7     10    13\n",
      "\n",
      "   Five\n",
      "a    14\n",
      "b    15\n",
      "c    16\n",
      "\n",
      "   One  Two  Three  Four  Five\n",
      "a  1.0  5.0    8.0  11.0   NaN\n",
      "b  2.0  6.0    9.0  12.0   NaN\n",
      "c  3.0  7.0   10.0  13.0   NaN\n",
      "a  NaN  NaN    NaN   NaN  14.0\n",
      "b  NaN  NaN    NaN   NaN  15.0\n",
      "c  NaN  NaN    NaN   NaN  16.0\n",
      "\n",
      "   One  Two  Three  Four  Five\n",
      "b  2.0  6.0    9.0  12.0   NaN\n",
      "c  3.0  7.0   10.0  13.0   NaN\n",
      "b  NaN  NaN    NaN   NaN  15.0\n",
      "c  NaN  NaN    NaN   NaN  16.0\n"
     ]
    }
   ],
   "source": [
    "# Dropping rows where index is a letter\n",
    "\n",
    "\n",
    "import pandas as pd\n",
    "\n",
    "data={'One':pd.Series([1,2,3],index=['a','b','c']),\n",
    "      'Two':pd.Series([5,6,7],index=['a','b','c']),\n",
    "      'Three':pd.Series([8,9,10],index= ['a','b','c']),\n",
    "      'Four':pd.Series([11,12,13],index=['a','b','c'])\n",
    "     }\n",
    "df= pd.DataFrame(data)\n",
    "print(df)\n",
    "print()\n",
    "df2= pd.DataFrame()\n",
    "df2['Five']= pd.Series([14,15,16],index=['a','b','c'])\n",
    "print(df2)\n",
    "df=df.append(df2,sort=False)\n",
    "print()\n",
    "print(df)\n",
    "print()\n",
    "#Deletion of Row\n",
    "\n",
    "#Use index label to delete or drop rows from a DataFrame.\n",
    "\n",
    "df.drop(df.index[0],inplace=True)\n",
    "print(df)\n"
   ]
  }
 ],
 "metadata": {
  "kernelspec": {
   "display_name": "Python 3",
   "language": "python",
   "name": "python3"
  },
  "language_info": {
   "codemirror_mode": {
    "name": "ipython",
    "version": 3
   },
   "file_extension": ".py",
   "mimetype": "text/x-python",
   "name": "python",
   "nbconvert_exporter": "python",
   "pygments_lexer": "ipython3",
   "version": "3.7.1"
  }
 },
 "nbformat": 4,
 "nbformat_minor": 2
}
